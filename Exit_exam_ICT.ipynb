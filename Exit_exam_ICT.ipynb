{
 "cells": [
  {
   "cell_type": "markdown",
   "id": "2db1a285",
   "metadata": {},
   "source": [
    "# Sentiment Analysis on Movie Reviews"
   ]
  },
  {
   "cell_type": "code",
   "execution_count": 1,
   "id": "d99393e1",
   "metadata": {},
   "outputs": [],
   "source": [
    "#importing necssary libraries\n",
    "import pandas as pd\n",
    "import re                 \n",
    "import nltk               \n",
    "import spacy              \n",
    "from nltk.tokenize import word_tokenize \n",
    "import matplotlib.pyplot as plt\n",
    "from sklearn.metrics import classification_report,accuracy_score,precision_score,recall_score,f1_score,confusion_matrix\n",
    "import numpy as np\n",
    "import warnings\n",
    "# Settings the warnings to be ignored\n",
    "warnings.filterwarnings('ignore')\n",
    "  "
   ]
  },
  {
   "cell_type": "code",
   "execution_count": 20,
   "id": "1f520df9",
   "metadata": {},
   "outputs": [],
   "source": [
    "import string\n"
   ]
  },
  {
   "cell_type": "code",
   "execution_count": 2,
   "id": "2c5de956",
   "metadata": {},
   "outputs": [
    {
     "name": "stdout",
     "output_type": "stream",
     "text": [
      "            id  sentiment                                             review\n",
      "0       5814_8          1  With all this stuff going down at the moment w...\n",
      "1       2381_9          1  \\The Classic War of the Worlds\\\" by Timothy Hi...\n",
      "2       7759_3          0  The film starts with a manager (Nicholas Bell)...\n",
      "3       3630_4          0  It must be assumed that those who praised this...\n",
      "4       9495_8          1  Superbly trashy and wondrously unpretentious 8...\n",
      "...        ...        ...                                                ...\n",
      "24995   3453_3          0  It seems like more consideration has gone into...\n",
      "24996   5064_1          0  I don't believe they made this film. Completel...\n",
      "24997  10905_3          0  Guy is a loser. Can't get girls, needs to buil...\n",
      "24998  10194_3          0  This 30 minute documentary Buñuel made in the ...\n",
      "24999   8478_8          1  I saw this movie as a child and it broke my he...\n",
      "\n",
      "[25000 rows x 3 columns]\n"
     ]
    }
   ],
   "source": [
    "#reading data\n",
    "df = pd.read_csv('labeledTrainData.tsv', sep='\\t')\n",
    " \n",
    "# printing data\n",
    "print(df)"
   ]
  },
  {
   "cell_type": "code",
   "execution_count": 3,
   "id": "37d3fd6c",
   "metadata": {},
   "outputs": [
    {
     "data": {
      "text/plain": [
       "(25000, 3)"
      ]
     },
     "execution_count": 3,
     "metadata": {},
     "output_type": "execute_result"
    }
   ],
   "source": [
    "df.shape"
   ]
  },
  {
   "cell_type": "code",
   "execution_count": 4,
   "id": "d3b007d3",
   "metadata": {},
   "outputs": [
    {
     "data": {
      "text/html": [
       "<div>\n",
       "<style scoped>\n",
       "    .dataframe tbody tr th:only-of-type {\n",
       "        vertical-align: middle;\n",
       "    }\n",
       "\n",
       "    .dataframe tbody tr th {\n",
       "        vertical-align: top;\n",
       "    }\n",
       "\n",
       "    .dataframe thead th {\n",
       "        text-align: right;\n",
       "    }\n",
       "</style>\n",
       "<table border=\"1\" class=\"dataframe\">\n",
       "  <thead>\n",
       "    <tr style=\"text-align: right;\">\n",
       "      <th></th>\n",
       "      <th>id</th>\n",
       "      <th>sentiment</th>\n",
       "      <th>review</th>\n",
       "    </tr>\n",
       "  </thead>\n",
       "  <tbody>\n",
       "    <tr>\n",
       "      <th>0</th>\n",
       "      <td>5814_8</td>\n",
       "      <td>1</td>\n",
       "      <td>With all this stuff going down at the moment w...</td>\n",
       "    </tr>\n",
       "    <tr>\n",
       "      <th>1</th>\n",
       "      <td>2381_9</td>\n",
       "      <td>1</td>\n",
       "      <td>\\The Classic War of the Worlds\\\" by Timothy Hi...</td>\n",
       "    </tr>\n",
       "    <tr>\n",
       "      <th>2</th>\n",
       "      <td>7759_3</td>\n",
       "      <td>0</td>\n",
       "      <td>The film starts with a manager (Nicholas Bell)...</td>\n",
       "    </tr>\n",
       "    <tr>\n",
       "      <th>3</th>\n",
       "      <td>3630_4</td>\n",
       "      <td>0</td>\n",
       "      <td>It must be assumed that those who praised this...</td>\n",
       "    </tr>\n",
       "    <tr>\n",
       "      <th>4</th>\n",
       "      <td>9495_8</td>\n",
       "      <td>1</td>\n",
       "      <td>Superbly trashy and wondrously unpretentious 8...</td>\n",
       "    </tr>\n",
       "  </tbody>\n",
       "</table>\n",
       "</div>"
      ],
      "text/plain": [
       "       id  sentiment                                             review\n",
       "0  5814_8          1  With all this stuff going down at the moment w...\n",
       "1  2381_9          1  \\The Classic War of the Worlds\\\" by Timothy Hi...\n",
       "2  7759_3          0  The film starts with a manager (Nicholas Bell)...\n",
       "3  3630_4          0  It must be assumed that those who praised this...\n",
       "4  9495_8          1  Superbly trashy and wondrously unpretentious 8..."
      ]
     },
     "execution_count": 4,
     "metadata": {},
     "output_type": "execute_result"
    }
   ],
   "source": [
    "df.head()"
   ]
  },
  {
   "cell_type": "code",
   "execution_count": 5,
   "id": "c1d6f86a",
   "metadata": {},
   "outputs": [
    {
     "data": {
      "text/plain": [
       "Index(['id', 'sentiment', 'review'], dtype='object')"
      ]
     },
     "execution_count": 5,
     "metadata": {},
     "output_type": "execute_result"
    }
   ],
   "source": [
    "df.columns"
   ]
  },
  {
   "cell_type": "code",
   "execution_count": 6,
   "id": "8f113faf",
   "metadata": {},
   "outputs": [
    {
     "data": {
      "text/html": [
       "<div>\n",
       "<style scoped>\n",
       "    .dataframe tbody tr th:only-of-type {\n",
       "        vertical-align: middle;\n",
       "    }\n",
       "\n",
       "    .dataframe tbody tr th {\n",
       "        vertical-align: top;\n",
       "    }\n",
       "\n",
       "    .dataframe thead th {\n",
       "        text-align: right;\n",
       "    }\n",
       "</style>\n",
       "<table border=\"1\" class=\"dataframe\">\n",
       "  <thead>\n",
       "    <tr style=\"text-align: right;\">\n",
       "      <th></th>\n",
       "      <th>sentiment</th>\n",
       "    </tr>\n",
       "  </thead>\n",
       "  <tbody>\n",
       "    <tr>\n",
       "      <th>count</th>\n",
       "      <td>25000.00000</td>\n",
       "    </tr>\n",
       "    <tr>\n",
       "      <th>mean</th>\n",
       "      <td>0.50000</td>\n",
       "    </tr>\n",
       "    <tr>\n",
       "      <th>std</th>\n",
       "      <td>0.50001</td>\n",
       "    </tr>\n",
       "    <tr>\n",
       "      <th>min</th>\n",
       "      <td>0.00000</td>\n",
       "    </tr>\n",
       "    <tr>\n",
       "      <th>25%</th>\n",
       "      <td>0.00000</td>\n",
       "    </tr>\n",
       "    <tr>\n",
       "      <th>50%</th>\n",
       "      <td>0.50000</td>\n",
       "    </tr>\n",
       "    <tr>\n",
       "      <th>75%</th>\n",
       "      <td>1.00000</td>\n",
       "    </tr>\n",
       "    <tr>\n",
       "      <th>max</th>\n",
       "      <td>1.00000</td>\n",
       "    </tr>\n",
       "  </tbody>\n",
       "</table>\n",
       "</div>"
      ],
      "text/plain": [
       "         sentiment\n",
       "count  25000.00000\n",
       "mean       0.50000\n",
       "std        0.50001\n",
       "min        0.00000\n",
       "25%        0.00000\n",
       "50%        0.50000\n",
       "75%        1.00000\n",
       "max        1.00000"
      ]
     },
     "execution_count": 6,
     "metadata": {},
     "output_type": "execute_result"
    }
   ],
   "source": [
    "\n",
    "\n",
    "#descriptive statistics\n",
    "df.describe()\n",
    "     \n"
   ]
  },
  {
   "cell_type": "code",
   "execution_count": 7,
   "id": "b7cb95d0",
   "metadata": {},
   "outputs": [
    {
     "name": "stdout",
     "output_type": "stream",
     "text": [
      "<class 'pandas.core.frame.DataFrame'>\n",
      "RangeIndex: 25000 entries, 0 to 24999\n",
      "Data columns (total 3 columns):\n",
      " #   Column     Non-Null Count  Dtype \n",
      "---  ------     --------------  ----- \n",
      " 0   id         25000 non-null  object\n",
      " 1   sentiment  25000 non-null  int64 \n",
      " 2   review     25000 non-null  object\n",
      "dtypes: int64(1), object(2)\n",
      "memory usage: 586.1+ KB\n"
     ]
    }
   ],
   "source": [
    "\n",
    "\n",
    "df.info()\n",
    "     \n"
   ]
  },
  {
   "cell_type": "code",
   "execution_count": 8,
   "id": "3933a559",
   "metadata": {},
   "outputs": [
    {
     "data": {
      "text/plain": [
       "id           0\n",
       "sentiment    0\n",
       "review       0\n",
       "dtype: int64"
      ]
     },
     "execution_count": 8,
     "metadata": {},
     "output_type": "execute_result"
    }
   ],
   "source": [
    "df.isna().sum() #Finding any null values in each column"
   ]
  },
  {
   "cell_type": "code",
   "execution_count": 9,
   "id": "d147a8c7",
   "metadata": {},
   "outputs": [
    {
     "data": {
      "text/plain": [
       "1    12500\n",
       "0    12500\n",
       "Name: sentiment, dtype: int64"
      ]
     },
     "execution_count": 9,
     "metadata": {},
     "output_type": "execute_result"
    }
   ],
   "source": [
    "df[\"sentiment\"].value_counts()"
   ]
  },
  {
   "cell_type": "markdown",
   "id": "df7cd5eb",
   "metadata": {},
   "source": [
    "## EDA"
   ]
  },
  {
   "cell_type": "code",
   "execution_count": 10,
   "id": "b03d8651",
   "metadata": {},
   "outputs": [
    {
     "data": {
      "image/png": "[encoded data removed]",
      "text/plain": [
       "<Figure size 432x288 with 1 Axes>"
      ]
     },
     "metadata": {
      "needs_background": "light"
     },
     "output_type": "display_data"
    }
   ],
   "source": [
    "#plotting histogram\n",
    "df[\"sentiment\"].hist()\n",
    "plt.show()"
   ]
  },
  {
   "cell_type": "code",
   "execution_count": 11,
   "id": "30f45247",
   "metadata": {},
   "outputs": [
    {
     "data": {
      "image/png": "[encoded data removed]",
      "text/plain": [
       "<Figure size 432x288 with 1 Axes>"
      ]
     },
     "metadata": {},
     "output_type": "display_data"
    }
   ],
   "source": [
    "#plotting pie chart\n",
    "plt.pie(df[\"sentiment\"].value_counts(),labels=[\"POSITIVE\",\"NEGATIVE\"],autopct=\"%.2f\")\n",
    "plt.show()"
   ]
  },
  {
   "cell_type": "markdown",
   "id": "317ebf02",
   "metadata": {},
   "source": [
    "**We can see that that the number of positive and negative ratings are equal**"
   ]
  },
  {
   "cell_type": "markdown",
   "id": "d685ef2a",
   "metadata": {},
   "source": [
    "## Data Pre-Processing\n"
   ]
  },
  {
   "cell_type": "code",
   "execution_count": 12,
   "id": "eed83220",
   "metadata": {},
   "outputs": [
    {
     "data": {
      "text/plain": [
       "25000"
      ]
     },
     "execution_count": 12,
     "metadata": {},
     "output_type": "execute_result"
    }
   ],
   "source": [
    "df[\"id\"].nunique()"
   ]
  },
  {
   "cell_type": "code",
   "execution_count": 13,
   "id": "97f424c7",
   "metadata": {},
   "outputs": [],
   "source": [
    "\n",
    "\n",
    "from nltk.corpus import stopwords  ##'stopwords' module allows you to access and use predefined stopword lists for various languages.\n",
    "from nltk.stem import WordNetLemmatizer,PorterStemmer ##'WordNetLemmatizer' class from NLTK's stem module provides functionality for lemmatization,'PorterStemmer' is a widely used stemming algorithm that applies a set of rules to perform stemming.\n",
    "     \n"
   ]
  },
  {
   "cell_type": "code",
   "execution_count": 14,
   "id": "3a178698",
   "metadata": {},
   "outputs": [
    {
     "name": "stderr",
     "output_type": "stream",
     "text": [
      "[nltk_data] Downloading package stopwords to\n",
      "[nltk_data]     C:\\Users\\user\\AppData\\Roaming\\nltk_data...\n",
      "[nltk_data]   Package stopwords is already up-to-date!\n",
      "[nltk_data] Downloading package wordnet to\n",
      "[nltk_data]     C:\\Users\\user\\AppData\\Roaming\\nltk_data...\n",
      "[nltk_data]   Package wordnet is already up-to-date!\n"
     ]
    },
    {
     "data": {
      "text/plain": [
       "True"
      ]
     },
     "execution_count": 14,
     "metadata": {},
     "output_type": "execute_result"
    }
   ],
   "source": [
    "nltk.download('stopwords')  ##download the necessary stopwords\n",
    "nltk.download('wordnet')  ##it fetches the WordNet data from the NLTK repository.\n",
    "     "
   ]
  },
  {
   "cell_type": "code",
   "execution_count": 15,
   "id": "9c7b1875",
   "metadata": {},
   "outputs": [
    {
     "name": "stderr",
     "output_type": "stream",
     "text": [
      "[nltk_data] Downloading package punkt to\n",
      "[nltk_data]     C:\\Users\\user\\AppData\\Roaming\\nltk_data...\n",
      "[nltk_data]   Package punkt is already up-to-date!\n"
     ]
    },
    {
     "data": {
      "text/plain": [
       "True"
      ]
     },
     "execution_count": 15,
     "metadata": {},
     "output_type": "execute_result"
    }
   ],
   "source": [
    "import nltk\n",
    "nltk.download('punkt')\n",
    "     "
   ]
  },
  {
   "cell_type": "code",
   "execution_count": 16,
   "id": "bcca3858",
   "metadata": {},
   "outputs": [],
   "source": [
    "\n",
    "x = df[[\"review\"]]"
   ]
  },
  {
   "cell_type": "code",
   "execution_count": 17,
   "id": "fd4a3ef0",
   "metadata": {},
   "outputs": [],
   "source": [
    "x[\"review\"] = x[\"review\"].astype(str)"
   ]
  },
  {
   "cell_type": "code",
   "execution_count": 21,
   "id": "7328e889",
   "metadata": {},
   "outputs": [],
   "source": [
    "def clean_text(text):\n",
    "    def remove_mentions(text):\n",
    "        # Regular expression pattern to match mentions\n",
    "        mention_pattern = r'@[\\w_]+'\n",
    "\n",
    "        # Remove mentions using regular expression substitution\n",
    "        cleaned_text = re.sub(mention_pattern, '', text)\n",
    "\n",
    "        return cleaned_text\n",
    "\n",
    "    # Remove mentions from the text\n",
    "    text = remove_mentions(text)\n",
    "\n",
    "    # Tokenization\n",
    "    tokens = word_tokenize(text)\n",
    "\n",
    "    # Lowercasing\n",
    "    tokens = [token.lower() for token in tokens]\n",
    "\n",
    "    # Handling contractions\n",
    "    contractions = {\n",
    "        \"n't\": \"not\",\n",
    "        \"'s\": \"is\",\n",
    "        \"'re\": \"are\",\n",
    "        \"'ve\": \"have\"\n",
    "\n",
    "    }\n",
    "    tokens = [contractions[token] if token in contractions else token for token in tokens]\n",
    "\n",
    "    # Removing stopwords and punctuation\n",
    "    stop_words = set(stopwords.words('english'))\n",
    "    tokens = [token for token in tokens if token not in stop_words and token not in string.punctuation]\n",
    "\n",
    "    # Lemmatization\n",
    "    lemmatizer = WordNetLemmatizer()\n",
    "    tokens = [lemmatizer.lemmatize(token) for token in tokens]\n",
    "\n",
    "    # Stemming\n",
    "    #stemmer = PorterStemmer()\n",
    "    #tokens = [stemmer.stem(token) for token in tokens]\n",
    "\n",
    "    return tokens\n",
    "\n",
    "\n",
    "\n",
    "x['review_cleaned'] = x['review'].apply(clean_text)\n"
   ]
  },
  {
   "cell_type": "markdown",
   "id": "2e0862bd",
   "metadata": {},
   "source": [
    "* Removed mentions from the text\n",
    "* every text is converted to lowercase\n",
    "* stopwords and punctuation are removed\n",
    "* Handled contractions\n",
    "* lemmatization is done\n"
   ]
  },
  {
   "cell_type": "code",
   "execution_count": 22,
   "id": "af613402",
   "metadata": {},
   "outputs": [
    {
     "data": {
      "text/plain": [
       "0    [stuff, going, moment, mj, started, listening,...\n",
       "1    [\\the, classic, war, worlds\\, '', timothy, hin...\n",
       "2    [film, start, manager, nicholas, bell, giving,...\n",
       "3    [must, assumed, praised, film, \\the, greatest,...\n",
       "4    [superbly, trashy, wondrously, unpretentious, ...\n",
       "Name: review_cleaned, dtype: object"
      ]
     },
     "execution_count": 22,
     "metadata": {},
     "output_type": "execute_result"
    }
   ],
   "source": [
    "\n",
    "\n",
    "x['review_cleaned'].head()\n",
    "     \n"
   ]
  },
  {
   "cell_type": "code",
   "execution_count": 27,
   "id": "94725c98",
   "metadata": {},
   "outputs": [
    {
     "data": {
      "text/plain": [
       "['stuff',\n",
       " 'going',\n",
       " 'moment',\n",
       " 'mj',\n",
       " 'started',\n",
       " 'listening',\n",
       " 'music',\n",
       " 'watching',\n",
       " 'odd',\n",
       " 'documentary',\n",
       " 'watched',\n",
       " 'wiz',\n",
       " 'watched',\n",
       " 'moonwalker',\n",
       " 'maybe',\n",
       " 'want',\n",
       " 'get',\n",
       " 'certain',\n",
       " 'insight',\n",
       " 'guy',\n",
       " 'thought',\n",
       " 'really',\n",
       " 'cool',\n",
       " 'eighty',\n",
       " 'maybe',\n",
       " 'make',\n",
       " 'mind',\n",
       " 'whether',\n",
       " 'guilty',\n",
       " 'innocent',\n",
       " 'moonwalker',\n",
       " 'part',\n",
       " 'biography',\n",
       " 'part',\n",
       " 'feature',\n",
       " 'film',\n",
       " 'remember',\n",
       " 'going',\n",
       " 'see',\n",
       " 'cinema',\n",
       " 'originally',\n",
       " 'released',\n",
       " 'subtle',\n",
       " 'message',\n",
       " 'mj',\n",
       " 'feeling',\n",
       " 'towards',\n",
       " 'press',\n",
       " 'also',\n",
       " 'obvious',\n",
       " 'message',\n",
       " 'drug',\n",
       " 'bad',\n",
       " \"m'kay.\",\n",
       " 'br',\n",
       " 'br',\n",
       " 'visually',\n",
       " 'impressive',\n",
       " 'course',\n",
       " 'michael',\n",
       " 'jackson',\n",
       " 'unless',\n",
       " 'remotely',\n",
       " 'like',\n",
       " 'mj',\n",
       " 'anyway',\n",
       " 'going',\n",
       " 'hate',\n",
       " 'find',\n",
       " 'boring',\n",
       " 'may',\n",
       " 'call',\n",
       " 'mj',\n",
       " 'egotist',\n",
       " 'consenting',\n",
       " 'making',\n",
       " 'movie',\n",
       " 'mj',\n",
       " 'fan',\n",
       " 'would',\n",
       " 'say',\n",
       " 'made',\n",
       " 'fan',\n",
       " 'true',\n",
       " 'really',\n",
       " 'nice',\n",
       " 'him.',\n",
       " 'br',\n",
       " 'br',\n",
       " 'actual',\n",
       " 'feature',\n",
       " 'film',\n",
       " 'bit',\n",
       " 'finally',\n",
       " 'start',\n",
       " '20',\n",
       " 'minute',\n",
       " 'excluding',\n",
       " 'smooth',\n",
       " 'criminal',\n",
       " 'sequence',\n",
       " 'joe',\n",
       " 'pesci',\n",
       " 'convincing',\n",
       " 'psychopathic',\n",
       " 'powerful',\n",
       " 'drug',\n",
       " 'lord',\n",
       " 'want',\n",
       " 'mj',\n",
       " 'dead',\n",
       " 'bad',\n",
       " 'beyond',\n",
       " 'mj',\n",
       " 'overheard',\n",
       " 'plan',\n",
       " 'nah',\n",
       " 'joe',\n",
       " 'pesci',\n",
       " 'character',\n",
       " 'ranted',\n",
       " 'wanted',\n",
       " 'people',\n",
       " 'know',\n",
       " 'supplying',\n",
       " 'drug',\n",
       " 'etc',\n",
       " 'dunno',\n",
       " 'maybe',\n",
       " 'hate',\n",
       " 'mj',\n",
       " 'music.',\n",
       " 'br',\n",
       " 'br',\n",
       " 'lot',\n",
       " 'cool',\n",
       " 'thing',\n",
       " 'like',\n",
       " 'mj',\n",
       " 'turning',\n",
       " 'car',\n",
       " 'robot',\n",
       " 'whole',\n",
       " 'speed',\n",
       " 'demon',\n",
       " 'sequence',\n",
       " 'also',\n",
       " 'director',\n",
       " 'must',\n",
       " 'patience',\n",
       " 'saint',\n",
       " 'came',\n",
       " 'filming',\n",
       " 'kiddy',\n",
       " 'bad',\n",
       " 'sequence',\n",
       " 'usually',\n",
       " 'director',\n",
       " 'hate',\n",
       " 'working',\n",
       " 'one',\n",
       " 'kid',\n",
       " 'let',\n",
       " 'alone',\n",
       " 'whole',\n",
       " 'bunch',\n",
       " 'performing',\n",
       " 'complex',\n",
       " 'dance',\n",
       " 'scene.',\n",
       " 'br',\n",
       " 'br',\n",
       " 'bottom',\n",
       " 'line',\n",
       " 'movie',\n",
       " 'people',\n",
       " 'like',\n",
       " 'mj',\n",
       " 'one',\n",
       " 'level',\n",
       " 'another',\n",
       " 'think',\n",
       " 'people',\n",
       " 'stay',\n",
       " 'away',\n",
       " 'try',\n",
       " 'give',\n",
       " 'wholesome',\n",
       " 'message',\n",
       " 'ironically',\n",
       " 'mj',\n",
       " 'bestest',\n",
       " 'buddy',\n",
       " 'movie',\n",
       " 'girl',\n",
       " 'michael',\n",
       " 'jackson',\n",
       " 'truly',\n",
       " 'one',\n",
       " 'talented',\n",
       " 'people',\n",
       " 'ever',\n",
       " 'grace',\n",
       " 'planet',\n",
       " 'guilty',\n",
       " 'well',\n",
       " 'attention',\n",
       " 'gave',\n",
       " 'subject',\n",
       " '....',\n",
       " 'hmmm',\n",
       " 'well',\n",
       " 'know',\n",
       " 'people',\n",
       " 'different',\n",
       " 'behind',\n",
       " 'closed',\n",
       " 'door',\n",
       " 'know',\n",
       " 'fact',\n",
       " 'either',\n",
       " 'extremely',\n",
       " 'nice',\n",
       " 'stupid',\n",
       " 'guy',\n",
       " 'one',\n",
       " 'sickest',\n",
       " 'liar',\n",
       " 'hope',\n",
       " 'latter']"
      ]
     },
     "execution_count": 27,
     "metadata": {},
     "output_type": "execute_result"
    }
   ],
   "source": [
    "\n",
    "\n",
    "x['review_cleaned'][0]\n",
    "     \n"
   ]
  },
  {
   "cell_type": "code",
   "execution_count": 30,
   "id": "298ef60e",
   "metadata": {},
   "outputs": [],
   "source": [
    "df['review_cleaned'] = x['review_cleaned']"
   ]
  },
  {
   "cell_type": "code",
   "execution_count": 31,
   "id": "8bf6a8f5",
   "metadata": {},
   "outputs": [
    {
     "data": {
      "text/html": [
       "<div>\n",
       "<style scoped>\n",
       "    .dataframe tbody tr th:only-of-type {\n",
       "        vertical-align: middle;\n",
       "    }\n",
       "\n",
       "    .dataframe tbody tr th {\n",
       "        vertical-align: top;\n",
       "    }\n",
       "\n",
       "    .dataframe thead th {\n",
       "        text-align: right;\n",
       "    }\n",
       "</style>\n",
       "<table border=\"1\" class=\"dataframe\">\n",
       "  <thead>\n",
       "    <tr style=\"text-align: right;\">\n",
       "      <th></th>\n",
       "      <th>id</th>\n",
       "      <th>sentiment</th>\n",
       "      <th>review</th>\n",
       "      <th>review_cleaned</th>\n",
       "    </tr>\n",
       "  </thead>\n",
       "  <tbody>\n",
       "    <tr>\n",
       "      <th>0</th>\n",
       "      <td>5814_8</td>\n",
       "      <td>1</td>\n",
       "      <td>With all this stuff going down at the moment w...</td>\n",
       "      <td>[stuff, going, moment, mj, started, listening,...</td>\n",
       "    </tr>\n",
       "    <tr>\n",
       "      <th>1</th>\n",
       "      <td>2381_9</td>\n",
       "      <td>1</td>\n",
       "      <td>\\The Classic War of the Worlds\\\" by Timothy Hi...</td>\n",
       "      <td>[\\the, classic, war, worlds\\, '', timothy, hin...</td>\n",
       "    </tr>\n",
       "    <tr>\n",
       "      <th>2</th>\n",
       "      <td>7759_3</td>\n",
       "      <td>0</td>\n",
       "      <td>The film starts with a manager (Nicholas Bell)...</td>\n",
       "      <td>[film, start, manager, nicholas, bell, giving,...</td>\n",
       "    </tr>\n",
       "    <tr>\n",
       "      <th>3</th>\n",
       "      <td>3630_4</td>\n",
       "      <td>0</td>\n",
       "      <td>It must be assumed that those who praised this...</td>\n",
       "      <td>[must, assumed, praised, film, \\the, greatest,...</td>\n",
       "    </tr>\n",
       "    <tr>\n",
       "      <th>4</th>\n",
       "      <td>9495_8</td>\n",
       "      <td>1</td>\n",
       "      <td>Superbly trashy and wondrously unpretentious 8...</td>\n",
       "      <td>[superbly, trashy, wondrously, unpretentious, ...</td>\n",
       "    </tr>\n",
       "  </tbody>\n",
       "</table>\n",
       "</div>"
      ],
      "text/plain": [
       "       id  sentiment                                             review  \\\n",
       "0  5814_8          1  With all this stuff going down at the moment w...   \n",
       "1  2381_9          1  \\The Classic War of the Worlds\\\" by Timothy Hi...   \n",
       "2  7759_3          0  The film starts with a manager (Nicholas Bell)...   \n",
       "3  3630_4          0  It must be assumed that those who praised this...   \n",
       "4  9495_8          1  Superbly trashy and wondrously unpretentious 8...   \n",
       "\n",
       "                                      review_cleaned  \n",
       "0  [stuff, going, moment, mj, started, listening,...  \n",
       "1  [\\the, classic, war, worlds\\, '', timothy, hin...  \n",
       "2  [film, start, manager, nicholas, bell, giving,...  \n",
       "3  [must, assumed, praised, film, \\the, greatest,...  \n",
       "4  [superbly, trashy, wondrously, unpretentious, ...  "
      ]
     },
     "execution_count": 31,
     "metadata": {},
     "output_type": "execute_result"
    }
   ],
   "source": [
    "\n",
    "df.head()\n"
   ]
  },
  {
   "cell_type": "code",
   "execution_count": 32,
   "id": "33596802",
   "metadata": {},
   "outputs": [
    {
     "name": "stdout",
     "output_type": "stream",
     "text": [
      "br: 101871\n",
      "'': 65910\n",
      "movie: 49758\n",
      "film: 45341\n",
      "one: 26742\n",
      "like: 20184\n",
      "time: 14918\n",
      "good: 14565\n",
      "character: 13846\n",
      "would: 13383\n"
     ]
    }
   ],
   "source": [
    "\n",
    "from collections import Counter\n",
    "\n",
    "all_words = [word for sublist in df['review_cleaned'] for word in sublist]\n",
    "\n",
    "# Count the occurrences of each word\n",
    "word_counts = Counter(all_words)\n",
    "\n",
    "# Get the most common words and their counts\n",
    "most_common_words = word_counts.most_common(10)  # Change '10' to get more or fewer words\n",
    "\n",
    "# Print the most common words and their counts\n",
    "for word, count in most_common_words:\n",
    "    print(f'{word}: {count}')\n"
   ]
  },
  {
   "cell_type": "code",
   "execution_count": 33,
   "id": "c959d839",
   "metadata": {},
   "outputs": [],
   "source": [
    "\n",
    "all_words=[]\n",
    "for i in df['review_cleaned']:\n",
    "    review = i\n",
    "    review=' '.join(review)                # joining the words to rearrage to form the sent without stop words\n",
    "    all_words.append(review)"
   ]
  },
  {
   "cell_type": "code",
   "execution_count": 34,
   "id": "edbef0b7",
   "metadata": {},
   "outputs": [
    {
     "data": {
      "text/html": [
       "<div>\n",
       "<style scoped>\n",
       "    .dataframe tbody tr th:only-of-type {\n",
       "        vertical-align: middle;\n",
       "    }\n",
       "\n",
       "    .dataframe tbody tr th {\n",
       "        vertical-align: top;\n",
       "    }\n",
       "\n",
       "    .dataframe thead th {\n",
       "        text-align: right;\n",
       "    }\n",
       "</style>\n",
       "<table border=\"1\" class=\"dataframe\">\n",
       "  <thead>\n",
       "    <tr style=\"text-align: right;\">\n",
       "      <th></th>\n",
       "      <th>sentiment</th>\n",
       "      <th>review</th>\n",
       "      <th>review_cleaned</th>\n",
       "    </tr>\n",
       "  </thead>\n",
       "  <tbody>\n",
       "    <tr>\n",
       "      <th>0</th>\n",
       "      <td>1</td>\n",
       "      <td>With all this stuff going down at the moment w...</td>\n",
       "      <td>[stuff, going, moment, mj, started, listening,...</td>\n",
       "    </tr>\n",
       "    <tr>\n",
       "      <th>1</th>\n",
       "      <td>1</td>\n",
       "      <td>\\The Classic War of the Worlds\\\" by Timothy Hi...</td>\n",
       "      <td>[\\the, classic, war, worlds\\, '', timothy, hin...</td>\n",
       "    </tr>\n",
       "    <tr>\n",
       "      <th>2</th>\n",
       "      <td>0</td>\n",
       "      <td>The film starts with a manager (Nicholas Bell)...</td>\n",
       "      <td>[film, start, manager, nicholas, bell, giving,...</td>\n",
       "    </tr>\n",
       "    <tr>\n",
       "      <th>3</th>\n",
       "      <td>0</td>\n",
       "      <td>It must be assumed that those who praised this...</td>\n",
       "      <td>[must, assumed, praised, film, \\the, greatest,...</td>\n",
       "    </tr>\n",
       "    <tr>\n",
       "      <th>4</th>\n",
       "      <td>1</td>\n",
       "      <td>Superbly trashy and wondrously unpretentious 8...</td>\n",
       "      <td>[superbly, trashy, wondrously, unpretentious, ...</td>\n",
       "    </tr>\n",
       "  </tbody>\n",
       "</table>\n",
       "</div>"
      ],
      "text/plain": [
       "   sentiment                                             review  \\\n",
       "0          1  With all this stuff going down at the moment w...   \n",
       "1          1  \\The Classic War of the Worlds\\\" by Timothy Hi...   \n",
       "2          0  The film starts with a manager (Nicholas Bell)...   \n",
       "3          0  It must be assumed that those who praised this...   \n",
       "4          1  Superbly trashy and wondrously unpretentious 8...   \n",
       "\n",
       "                                      review_cleaned  \n",
       "0  [stuff, going, moment, mj, started, listening,...  \n",
       "1  [\\the, classic, war, worlds\\, '', timothy, hin...  \n",
       "2  [film, start, manager, nicholas, bell, giving,...  \n",
       "3  [must, assumed, praised, film, \\the, greatest,...  \n",
       "4  [superbly, trashy, wondrously, unpretentious, ...  "
      ]
     },
     "execution_count": 34,
     "metadata": {},
     "output_type": "execute_result"
    }
   ],
   "source": [
    "df_new=df.drop([\"id\"],axis=1)\n",
    "df_new.head(5)\n",
    "     "
   ]
  },
  {
   "cell_type": "code",
   "execution_count": 35,
   "id": "aa65821a",
   "metadata": {},
   "outputs": [],
   "source": [
    "\n",
    "\n",
    "# Save the DataFrame to a CSV file\n",
    "output_file2 = 'output_file.csv'\n",
    "df_new.to_csv(output_file2, index=False)  # Set index=False to avoid saving the DataFrame index"
   ]
  },
  {
   "cell_type": "code",
   "execution_count": 36,
   "id": "cbb8622a",
   "metadata": {},
   "outputs": [],
   "source": [
    "\n",
    "\n",
    "from textblob import TextBlob\n",
    "     \n"
   ]
  },
  {
   "cell_type": "code",
   "execution_count": 37,
   "id": "464b24ab",
   "metadata": {},
   "outputs": [],
   "source": [
    "def polarity(text):\n",
    "    return TextBlob(text).sentiment.polarity\n",
    "\n",
    "df_new['polarity_score'] = df_new['review_cleaned'].apply(lambda x : polarity(str(x)))\n",
    "\n",
    "def sentiment(x):\n",
    "    if x<0:\n",
    "        return 'negative'\n",
    "    elif x==0:\n",
    "        return 'neutral'\n",
    "    else:\n",
    "        return 'positive'\n",
    "\n",
    "df_new['polarity'] = df_new['polarity_score'].map(lambda x: sentiment(x))"
   ]
  },
  {
   "cell_type": "code",
   "execution_count": 38,
   "id": "d7765a27",
   "metadata": {},
   "outputs": [],
   "source": [
    "\n",
    "\n",
    "def get_data(df_new,senti):\n",
    "    senti_df = df_new[df_new['polarity']==senti].reset_index()\n",
    "    return senti_df\n",
    "p_corpus = get_data(df_new,'positive')\n",
    "p_corpus=pd.DataFrame(p_corpus)\n",
    "\n",
    "n_corpus = get_data(df_new,'negative')\n",
    "n_corpus=pd.DataFrame(n_corpus)\n",
    "\n",
    "nt_corpus = get_data(df_new,'neutral')\n",
    "nt_corpus=pd.DataFrame(nt_corpus)\n",
    "     \n"
   ]
  },
  {
   "cell_type": "code",
   "execution_count": 39,
   "id": "e54a1349",
   "metadata": {},
   "outputs": [
    {
     "data": {
      "text/plain": [
       "((18394, 6), (6580, 6), (26, 6))"
      ]
     },
     "execution_count": 39,
     "metadata": {},
     "output_type": "execute_result"
    }
   ],
   "source": [
    "\n",
    "\n",
    "p_corpus.shape,n_corpus.shape,nt_corpus.shape\n",
    "     \n"
   ]
  },
  {
   "cell_type": "code",
   "execution_count": 40,
   "id": "cd144fa4",
   "metadata": {},
   "outputs": [
    {
     "data": {
      "text/html": [
       "<div>\n",
       "<style scoped>\n",
       "    .dataframe tbody tr th:only-of-type {\n",
       "        vertical-align: middle;\n",
       "    }\n",
       "\n",
       "    .dataframe tbody tr th {\n",
       "        vertical-align: top;\n",
       "    }\n",
       "\n",
       "    .dataframe thead th {\n",
       "        text-align: right;\n",
       "    }\n",
       "</style>\n",
       "<table border=\"1\" class=\"dataframe\">\n",
       "  <thead>\n",
       "    <tr style=\"text-align: right;\">\n",
       "      <th></th>\n",
       "      <th>sentiment</th>\n",
       "      <th>review</th>\n",
       "      <th>review_cleaned</th>\n",
       "      <th>Sentiment</th>\n",
       "    </tr>\n",
       "  </thead>\n",
       "  <tbody>\n",
       "    <tr>\n",
       "      <th>0</th>\n",
       "      <td>1</td>\n",
       "      <td>With all this stuff going down at the moment w...</td>\n",
       "      <td>[stuff, going, moment, mj, started, listening,...</td>\n",
       "      <td>negative</td>\n",
       "    </tr>\n",
       "    <tr>\n",
       "      <th>1</th>\n",
       "      <td>1</td>\n",
       "      <td>\\The Classic War of the Worlds\\\" by Timothy Hi...</td>\n",
       "      <td>[\\the, classic, war, worlds\\, '', timothy, hin...</td>\n",
       "      <td>positive</td>\n",
       "    </tr>\n",
       "    <tr>\n",
       "      <th>2</th>\n",
       "      <td>0</td>\n",
       "      <td>The film starts with a manager (Nicholas Bell)...</td>\n",
       "      <td>[film, start, manager, nicholas, bell, giving,...</td>\n",
       "      <td>negative</td>\n",
       "    </tr>\n",
       "    <tr>\n",
       "      <th>3</th>\n",
       "      <td>0</td>\n",
       "      <td>It must be assumed that those who praised this...</td>\n",
       "      <td>[must, assumed, praised, film, \\the, greatest,...</td>\n",
       "      <td>positive</td>\n",
       "    </tr>\n",
       "    <tr>\n",
       "      <th>4</th>\n",
       "      <td>1</td>\n",
       "      <td>Superbly trashy and wondrously unpretentious 8...</td>\n",
       "      <td>[superbly, trashy, wondrously, unpretentious, ...</td>\n",
       "      <td>negative</td>\n",
       "    </tr>\n",
       "  </tbody>\n",
       "</table>\n",
       "</div>"
      ],
      "text/plain": [
       "   sentiment                                             review  \\\n",
       "0          1  With all this stuff going down at the moment w...   \n",
       "1          1  \\The Classic War of the Worlds\\\" by Timothy Hi...   \n",
       "2          0  The film starts with a manager (Nicholas Bell)...   \n",
       "3          0  It must be assumed that those who praised this...   \n",
       "4          1  Superbly trashy and wondrously unpretentious 8...   \n",
       "\n",
       "                                      review_cleaned Sentiment  \n",
       "0  [stuff, going, moment, mj, started, listening,...  negative  \n",
       "1  [\\the, classic, war, worlds\\, '', timothy, hin...  positive  \n",
       "2  [film, start, manager, nicholas, bell, giving,...  negative  \n",
       "3  [must, assumed, praised, film, \\the, greatest,...  positive  \n",
       "4  [superbly, trashy, wondrously, unpretentious, ...  negative  "
      ]
     },
     "execution_count": 40,
     "metadata": {},
     "output_type": "execute_result"
    }
   ],
   "source": [
    "\n",
    "\n",
    "df_new.drop('polarity_score',axis=1,inplace=True)\n",
    "df_new.rename(columns={\"polarity\": \"Sentiment\"},inplace=True)\n",
    "df_new.head()\n",
    "     \n"
   ]
  },
  {
   "cell_type": "code",
   "execution_count": 41,
   "id": "6f85d113",
   "metadata": {},
   "outputs": [],
   "source": [
    "\n",
    "\n",
    "output_file2 = 'output_file1.csv'\n",
    "df_new.to_csv(output_file2, index=False)\n",
    "     \n"
   ]
  },
  {
   "cell_type": "code",
   "execution_count": 42,
   "id": "33e17462",
   "metadata": {},
   "outputs": [],
   "source": [
    "\n",
    "\n",
    "from sklearn.model_selection import train_test_split\n",
    "from sklearn.metrics import classification_report,confusion_matrix\n",
    "     \n"
   ]
  },
  {
   "cell_type": "code",
   "execution_count": 43,
   "id": "1c198929",
   "metadata": {},
   "outputs": [],
   "source": [
    "\n",
    "\n",
    "corpus=[]\n",
    "for i in df_new['review_cleaned']:\n",
    "    review = i\n",
    "    review=' '.join(review)                # joining the words to rearrage to form the sent without stop words\n",
    "    corpus.append(review)\n",
    "     \n"
   ]
  },
  {
   "cell_type": "markdown",
   "id": "fde0df22",
   "metadata": {},
   "source": [
    "### Feature Extraction"
   ]
  },
  {
   "cell_type": "code",
   "execution_count": null,
   "id": "ad557345",
   "metadata": {},
   "outputs": [],
   "source": []
  },
  {
   "cell_type": "markdown",
   "id": "68325d90",
   "metadata": {},
   "source": [
    "#### 1:Using Bag of Words"
   ]
  },
  {
   "cell_type": "code",
   "execution_count": 44,
   "id": "e13a9ba3",
   "metadata": {},
   "outputs": [],
   "source": [
    "# Converting the Words to Vector using Bag of words\n",
    "\n",
    "from sklearn.feature_extraction.text import CountVectorizer\n",
    "cv=CountVectorizer(max_features=2500,ngram_range=(1,3)) # top 2500 features are taken\n",
    "X=cv.fit_transform(corpus).toarray()\n",
    "y=df_new['Sentiment']\n",
    "x_train,x_test,y_train,y_test=train_test_split(X,y,test_size=0.20,random_state=1,stratify=y)\n",
    "     "
   ]
  },
  {
   "cell_type": "markdown",
   "id": "9ce9d130",
   "metadata": {},
   "source": [
    "## Model Building and Model  Evaluation\n"
   ]
  },
  {
   "cell_type": "code",
   "execution_count": 45,
   "id": "a5465193",
   "metadata": {},
   "outputs": [
    {
     "name": "stdout",
     "output_type": "stream",
     "text": [
      "              precision    recall  f1-score   support\n",
      "\n",
      "    negative       0.77      0.63      0.69      1619\n",
      "     neutral       0.00      0.00      0.00         1\n",
      "    positive       0.84      0.91      0.87      3380\n",
      "\n",
      "    accuracy                           0.82      5000\n",
      "   macro avg       0.54      0.51      0.52      5000\n",
      "weighted avg       0.81      0.82      0.81      5000\n",
      "\n"
     ]
    }
   ],
   "source": [
    "#Naive Bayes Model\n",
    "\n",
    "from sklearn.naive_bayes import MultinomialNB\n",
    "nb=MultinomialNB()\n",
    "nb.fit(x_train,y_train)\n",
    "MultinomialNB()\n",
    "train_pred=nb.predict(x_train)\n",
    "test_pred=nb.predict(x_test)\n",
    "print(classification_report(test_pred,y_test))\n",
    "     "
   ]
  },
  {
   "cell_type": "code",
   "execution_count": 46,
   "id": "4e45e409",
   "metadata": {},
   "outputs": [
    {
     "name": "stdout",
     "output_type": "stream",
     "text": [
      "              precision    recall  f1-score   support\n",
      "\n",
      "    negative       0.47      0.85      0.61       735\n",
      "     neutral       0.00      0.00      0.00         0\n",
      "    positive       0.97      0.84      0.90      4265\n",
      "\n",
      "    accuracy                           0.84      5000\n",
      "   macro avg       0.48      0.56      0.50      5000\n",
      "weighted avg       0.90      0.84      0.86      5000\n",
      "\n"
     ]
    }
   ],
   "source": [
    "\n",
    "#Random Forest Model\n",
    "\n",
    "from sklearn.ensemble import RandomForestClassifier\n",
    "rfc=RandomForestClassifier()\n",
    "rfc.fit(x_train,y_train)\n",
    "RandomForestClassifier()\n",
    "train_pred=rfc.predict(x_train)\n",
    "test_pred=rfc.predict(x_test)\n",
    "print(classification_report(test_pred,y_test))\n",
    "     "
   ]
  },
  {
   "cell_type": "code",
   "execution_count": 47,
   "id": "ec65d8cf",
   "metadata": {},
   "outputs": [
    {
     "name": "stdout",
     "output_type": "stream",
     "text": [
      "              precision    recall  f1-score   support\n",
      "\n",
      "    negative       0.83      0.80      0.81      1371\n",
      "     neutral       0.00      0.00      0.00         1\n",
      "    positive       0.92      0.94      0.93      3628\n",
      "\n",
      "    accuracy                           0.90      5000\n",
      "   macro avg       0.59      0.58      0.58      5000\n",
      "weighted avg       0.90      0.90      0.90      5000\n",
      "\n"
     ]
    }
   ],
   "source": [
    "#svm model\n",
    "\n",
    "from sklearn.svm import LinearSVC\n",
    "SVCmodel = LinearSVC()\n",
    "SVCmodel.fit(x_train, y_train)\n",
    "LinearSVC()\n",
    "train_pred=SVCmodel.predict(x_train)\n",
    "test_pred = SVCmodel.predict(x_test)\n",
    "print(classification_report(test_pred,y_test))\n",
    "     \n"
   ]
  },
  {
   "cell_type": "markdown",
   "id": "7bd56056",
   "metadata": {},
   "source": [
    "* Linear SVM model has the highest accuracy"
   ]
  },
  {
   "cell_type": "code",
   "execution_count": 48,
   "id": "ed19081f",
   "metadata": {},
   "outputs": [],
   "source": [
    "\n",
    "def sentiments(test_vec):\n",
    "    if test_vec == 0:\n",
    "        print(\"Negative\")\n",
    "    if test_vec == 1 :\n",
    "        print(\"Neutral\")\n",
    "    if test_vec == 2 :\n",
    "        print(\"Positive\")\n",
    "     "
   ]
  },
  {
   "cell_type": "code",
   "execution_count": 49,
   "id": "49511463",
   "metadata": {},
   "outputs": [
    {
     "name": "stdout",
     "output_type": "stream",
     "text": [
      "Test 1\n",
      "The Predicted Rating is : ['positive']\n"
     ]
    }
   ],
   "source": [
    "\n",
    "\n",
    "print('Test 1')\n",
    "test1 = [\"This movie is one among the very few Indian movies, that would never fade away with the passage of time, nor would its spell binding appeal ever diminish, even as the Indian cinema transforms into the abyss of artificially styled pop culture while drill oriented extras take to enhancing the P.T. styled film songs.<br /><br />The cinematography speaks of the excellent skills of Josef Werching that accentuate the monumental and cinema scope effect of the film in its entirety.<br /><br />Gone are the days of great cinema, when every scene had to be clipped many times and retakes taken before finalizing it, while meticulous attention was paid in crafting and editing the scenes. Some of its poignant scenes are filled with sublime emotional intensity, like the instance, when Meena Kumari refuses to say \\YES\\\" as an approval for Nikah (Marriage Bond) and climbs down the hill while running berserk in traumatized frenzy. At the moment, Raj Kumar follows her, and a strong gale of wind blew away the veil of Kumari and onto the legs of Kumar........<br /><br />Kamal Amrohi shall always be remembered with golden words in the annals of Indian Cinema's history for endeavoring to complete this movie in a record setting 12 years. He had to manage filming of some of the vital songs without Meena's close ups, because Meena Kumari, the lady in the lead role was terminally ill and fighting for her life in early 1971.\"]\n",
    "test_vec = cv.transform(test1)\n",
    "predict = SVCmodel.predict(test_vec)\n",
    "print('The Predicted Rating is :',predict)\n",
    "sentiments(predict)\n",
    "     \n"
   ]
  },
  {
   "cell_type": "code",
   "execution_count": 50,
   "id": "603c6224",
   "metadata": {},
   "outputs": [
    {
     "name": "stdout",
     "output_type": "stream",
     "text": [
      "Test 2\n",
      "The Predicted Rating is : ['negative']\n"
     ]
    }
   ],
   "source": [
    "print('Test 2')\n",
    "test2 = [\"Unremarkable and unmemorable remake of an old, celebrated English film. Although it may be overly maligned as a total disaster (which it is not), it never builds any tension and betrays its TV origins. Richard Burton sleepwalks through his role, and Sophia Loren's closed (in this movie) face doesn't display much passion, either. (**)\"]\n",
    "test_vec = cv.transform(test2)\n",
    "predict = SVCmodel.predict(test_vec)\n",
    "print('The Predicted Rating is :',predict)\n",
    "sentiments(predict)"
   ]
  },
  {
   "cell_type": "markdown",
   "id": "94b28548",
   "metadata": {},
   "source": [
    "### Using tf- idf"
   ]
  },
  {
   "cell_type": "code",
   "execution_count": 51,
   "id": "768394f2",
   "metadata": {},
   "outputs": [],
   "source": [
    "\n",
    "\n",
    "# Converting the Words to Vector using TF-IDF\n",
    "\n",
    "from sklearn.feature_extraction.text import TfidfVectorizer\n",
    "tf=TfidfVectorizer(ngram_range=(1,3),max_features=2500)\n",
    "X=tf.fit_transform(corpus).toarray()\n",
    "x_train,x_test,y_train,y_test=train_test_split(X,y,test_size=0.20,random_state=1,stratify=y)\n",
    "     "
   ]
  },
  {
   "cell_type": "code",
   "execution_count": 52,
   "id": "abddd7d9",
   "metadata": {},
   "outputs": [
    {
     "name": "stdout",
     "output_type": "stream",
     "text": [
      "              precision    recall  f1-score   support\n",
      "\n",
      "    negative       0.37      0.84      0.52       583\n",
      "     neutral       0.00      0.00      0.00         0\n",
      "    positive       0.98      0.81      0.89      4417\n",
      "\n",
      "    accuracy                           0.82      5000\n",
      "   macro avg       0.45      0.55      0.47      5000\n",
      "weighted avg       0.91      0.82      0.84      5000\n",
      "\n"
     ]
    }
   ],
   "source": [
    "#Naive Bayes Model\n",
    "\n",
    "from sklearn.naive_bayes import MultinomialNB\n",
    "nb=MultinomialNB()\n",
    "nb.fit(x_train,y_train)\n",
    "MultinomialNB()\n",
    "train_pred=nb.predict(x_train)\n",
    "test_pred=nb.predict(x_test)\n",
    "print(classification_report(test_pred,y_test))\n",
    "     "
   ]
  },
  {
   "cell_type": "code",
   "execution_count": 53,
   "id": "c6dce965",
   "metadata": {},
   "outputs": [
    {
     "name": "stdout",
     "output_type": "stream",
     "text": [
      "              precision    recall  f1-score   support\n",
      "\n",
      "    negative       0.50      0.83      0.63       792\n",
      "     neutral       0.00      0.00      0.00         0\n",
      "    positive       0.96      0.84      0.90      4208\n",
      "\n",
      "    accuracy                           0.84      5000\n",
      "   macro avg       0.49      0.56      0.51      5000\n",
      "weighted avg       0.89      0.84      0.86      5000\n",
      "\n"
     ]
    }
   ],
   "source": [
    "\n",
    "#Random Forest Model\n",
    "\n",
    "from sklearn.ensemble import RandomForestClassifier\n",
    "rfc=RandomForestClassifier()\n",
    "rfc.fit(x_train,y_train)\n",
    "RandomForestClassifier()\n",
    "train_pred=rfc.predict(x_train)\n",
    "test_pred=rfc.predict(x_test)\n",
    "print(classification_report(test_pred,y_test))"
   ]
  },
  {
   "cell_type": "code",
   "execution_count": 54,
   "id": "4205b93b",
   "metadata": {},
   "outputs": [
    {
     "name": "stdout",
     "output_type": "stream",
     "text": [
      "              precision    recall  f1-score   support\n",
      "\n",
      "    negative       0.81      0.86      0.84      1236\n",
      "     neutral       0.00      0.00      0.00         0\n",
      "    positive       0.95      0.93      0.94      3764\n",
      "\n",
      "    accuracy                           0.92      5000\n",
      "   macro avg       0.59      0.60      0.59      5000\n",
      "weighted avg       0.92      0.92      0.92      5000\n",
      "\n"
     ]
    }
   ],
   "source": [
    "#svm model\n",
    "\n",
    "from sklearn.svm import LinearSVC\n",
    "SVCmodel = LinearSVC()\n",
    "SVCmodel.fit(x_train, y_train)\n",
    "LinearSVC()\n",
    "train_pred=SVCmodel.predict(x_train)\n",
    "test_pred = SVCmodel.predict(x_test)\n",
    "print(classification_report(test_pred,y_test))\n",
    "     "
   ]
  },
  {
   "cell_type": "code",
   "execution_count": 55,
   "id": "d5615a17",
   "metadata": {},
   "outputs": [
    {
     "name": "stdout",
     "output_type": "stream",
     "text": [
      "Test 1\n",
      "The Predicted Rating is : ['positive']\n"
     ]
    }
   ],
   "source": [
    "\n",
    "print('Test 1')\n",
    "test1 = [\"This movie is one among the very few Indian movies, that would never fade away with the passage of time, nor would its spell binding appeal ever diminish, even as the Indian cinema transforms into the abyss of artificially styled pop culture while drill oriented extras take to enhancing the P.T. styled film songs.<br /><br />The cinematography speaks of the excellent skills of Josef Werching that accentuate the monumental and cinema scope effect of the film in its entirety.<br /><br />Gone are the days of great cinema, when every scene had to be clipped many times and retakes taken before finalizing it, while meticulous attention was paid in crafting and editing the scenes. Some of its poignant scenes are filled with sublime emotional intensity, like the instance, when Meena Kumari refuses to say \\YES\\\" as an approval for Nikah (Marriage Bond) and climbs down the hill while running berserk in traumatized frenzy. At the moment, Raj Kumar follows her, and a strong gale of wind blew away the veil of Kumari and onto the legs of Kumar........<br /><br />Kamal Amrohi shall always be remembered with golden words in the annals of Indian Cinema's history for endeavoring to complete this movie in a record setting 12 years. He had to manage filming of some of the vital songs without Meena's close ups, because Meena Kumari, the lady in the lead role was terminally ill and fighting for her life in early 1971.\"]\n",
    "test_vec = tf.transform(test1)\n",
    "predict = SVCmodel.predict(test_vec)\n",
    "print('The Predicted Rating is :',predict)\n",
    "sentiments(predict)"
   ]
  },
  {
   "cell_type": "code",
   "execution_count": 56,
   "id": "82fbf288",
   "metadata": {},
   "outputs": [
    {
     "name": "stdout",
     "output_type": "stream",
     "text": [
      "Test 2\n",
      "The Predicted Rating is : ['positive']\n"
     ]
    }
   ],
   "source": [
    "print('Test 2')\n",
    "test2 = [\"Unremarkable and unmemorable remake of an old, celebrated English film. Although it may be overly maligned as a total disaster (which it is not), it never builds any tension and betrays its TV origins. Richard Burton sleepwalks through his role, and Sophia Loren's closed (in this movie) face doesn't display much passion, either. (**)\"]\n",
    "test_vec = tf.transform(test2)\n",
    "predict = SVCmodel.predict(test_vec)\n",
    "print('The Predicted Rating is :',predict)\n",
    "sentiments(predict)"
   ]
  },
  {
   "cell_type": "markdown",
   "id": "baef10bb",
   "metadata": {},
   "source": [
    "### performance of model evaluation"
   ]
  },
  {
   "cell_type": "markdown",
   "id": "9f18f3cd",
   "metadata": {},
   "source": [
    "* svm model shows higher accuracy so we can get better model predictionds using svm model"
   ]
  },
  {
   "cell_type": "markdown",
   "id": "d87eec1b",
   "metadata": {},
   "source": [
    "* svm model has a higher accuracy using tf-idf technique "
   ]
  },
  {
   "cell_type": "markdown",
   "id": "1f0a5995",
   "metadata": {},
   "source": [
    "* naive bayes show least accuracy among the models"
   ]
  },
  {
   "cell_type": "code",
   "execution_count": null,
   "id": "bbbeba5b",
   "metadata": {},
   "outputs": [],
   "source": []
  }
 ],
 "metadata": {
  "kernelspec": {
   "display_name": "Python 3 (ipykernel)",
   "language": "python",
   "name": "python3"
  },
  "language_info": {
   "codemirror_mode": {
    "name": "ipython",
    "version": 3
   },
   "file_extension": ".py",
   "mimetype": "text/x-python",
   "name": "python",
   "nbconvert_exporter": "python",
   "pygments_lexer": "ipython3",
   "version": "3.9.12"
  }
 },
 "nbformat": 4,
 "nbformat_minor": 5
}
